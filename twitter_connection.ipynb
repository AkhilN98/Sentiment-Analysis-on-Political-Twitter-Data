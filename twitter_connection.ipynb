{
 "cells": [
  {
   "cell_type": "code",
   "execution_count": 1,
   "metadata": {},
   "outputs": [],
   "source": [
    "# Import tweepy to work with the twitter API\n",
    "import tweepy as tw\n",
    "\n",
    "# Import numpy and pandas to work with dataframes\n",
    "import numpy as np\n",
    "import pandas as pd\n",
    "\n",
    "# Import seaborn and matplotlib for viz\n",
    "from matplotlib import pyplot as plt"
   ]
  },
  {
   "cell_type": "code",
   "execution_count": 2,
   "metadata": {},
   "outputs": [],
   "source": [
    "consumer_key = 'YNyiyE5ibJ86TbhBDoFCpEsBu'\n",
    "consumer_secret = 'cE63ZCAiiNBYogYUNwjwGgB2jOVBxvZkkPOfwm7SPMa6Eocb6V'\n",
    "access_token = '748789075-E190Pda4cc7GQr4KQyUczGy9QtoMMPiSEkEm5uKP'\n",
    "access_token_secret = 'aAlExkHR84ij1SQpw3wZpsBg1WCNxYv5yUWchyDHya8YN'"
   ]
  },
  {
   "cell_type": "code",
   "execution_count": 3,
   "metadata": {},
   "outputs": [],
   "source": [
    "# Authenticate\n",
    "auth = tw.OAuthHandler(consumer_key, consumer_secret)\n",
    "# Set Tokens\n",
    "auth.set_access_token(access_token, access_token_secret)\n",
    "# Instantiate API\n",
    "api = tw.API(auth, wait_on_rate_limit=True)"
   ]
  },
  {
   "cell_type": "code",
   "execution_count": 17,
   "metadata": {},
   "outputs": [],
   "source": [
    "cursor = tw.Cursor(api.search_tweets, q = \"SarahEverard\", tweet_mode = \"extended\").items(50)"
   ]
  },
  {
   "cell_type": "code",
   "execution_count": 18,
   "metadata": {},
   "outputs": [
    {
     "name": "stdout",
     "output_type": "stream",
     "text": [
      "[{'Tweet': 'RT @LHissrich: Reading this over and over: “At some point fairly soon after driving from the pavement onto the South Circular, and having n…', 'Timestamp': datetime.datetime(2021, 9, 30, 11, 56, 56, tzinfo=datetime.timezone.utc)}, {'Tweet': 'RT @doctor_oxford: \"She was caring. She was funny. She was clever. She was a beautiful dancer, a wonderful daughter. She was always there t…', 'Timestamp': datetime.datetime(2021, 9, 30, 11, 56, 56, tzinfo=datetime.timezone.utc)}, {'Tweet': 'RT @AJEnglish: BREAKING: UK police officer given whole life sentence for murder of #SarahEverard | https://t.co/4Q2PmYmLax https://t.co/jfs…', 'Timestamp': datetime.datetime(2021, 9, 30, 11, 56, 54, tzinfo=datetime.timezone.utc)}, {'Tweet': 'RT @nazirafzal: Dunblane led to better gun control\\nHillsborough led to better ground safety\\nShipman led to better medical care\\nLet us hope…', 'Timestamp': datetime.datetime(2021, 9, 30, 11, 56, 52, tzinfo=datetime.timezone.utc)}, {'Tweet': \"RT @MakeHerstory1: 80 WOMEN have been killed since #saraheverard. 80!\\n\\nAnd the ONLY reason why we know this number &amp; every woman's name is…\", 'Timestamp': datetime.datetime(2021, 9, 30, 11, 56, 52, tzinfo=datetime.timezone.utc)}, {'Tweet': 'RT @Jules1602xx: Wayne Couzens sentenced to a while life order for the brutal murder of beautiful Sarah Everard.. He will never be released…', 'Timestamp': datetime.datetime(2021, 9, 30, 11, 56, 52, tzinfo=datetime.timezone.utc)}, {'Tweet': 'I was too tired to process the horrific stuff coming out of the #SarahEverard trial yesterday. But today I wanted to talk to my mum about &amp; she’d read Susan Everard’s statement &amp; told me she couldn’t. Like many others I just say here &amp; had a cry', 'Timestamp': datetime.datetime(2021, 9, 30, 11, 56, 51, tzinfo=datetime.timezone.utc)}, {'Tweet': 'RT @clopurcellx: 93% of murders are committed by men across England and Wales. Let that sink in. #SarahEverard #WomensRights', 'Timestamp': datetime.datetime(2021, 9, 30, 11, 56, 50, tzinfo=datetime.timezone.utc)}, {'Tweet': 'RT @nazirafzal: Dunblane led to better gun control\\nHillsborough led to better ground safety\\nShipman led to better medical care\\nLet us hope…', 'Timestamp': datetime.datetime(2021, 9, 30, 11, 56, 50, tzinfo=datetime.timezone.utc)}, {'Tweet': 'Good #WayneCouzens Will Die In Prison Rot You Dirty Scumbag!!!! What HE Did was the Lowest of the Low, He Abused his Power to Murder an Innocent Young Lady😡Monster!!!! #RIPSarahEverard #SheWasJustWalkingHome Never Forget #SarahEverard 😪💔', 'Timestamp': datetime.datetime(2021, 9, 30, 11, 56, 50, tzinfo=datetime.timezone.utc)}, {'Tweet': 'RT @allontheboard: Rest in Peace Sarah Everard.\\nMay heaven be the safe place where you walk freely and without fear,\\nas you should have bee…', 'Timestamp': datetime.datetime(2021, 9, 30, 11, 56, 50, tzinfo=datetime.timezone.utc)}, {'Tweet': 'RT @TheStephenRalph: @HarrietEJohnson @paddydocherty Exactly this. I saw a description claiming it was a \"pretend arrest\". No, it wasn\\'t. T…', 'Timestamp': datetime.datetime(2021, 9, 30, 11, 56, 49, tzinfo=datetime.timezone.utc)}, {'Tweet': 'RT @nazirafzal: Dunblane led to better gun control\\nHillsborough led to better ground safety\\nShipman led to better medical care\\nLet us hope…', 'Timestamp': datetime.datetime(2021, 9, 30, 11, 56, 49, tzinfo=datetime.timezone.utc)}, {'Tweet': 'Opinion: The entire daily hammer team hopes Wayne Couzens gets treated like a sex toy in prison for the rest of his life. What a disgusting man. #SarahEverard', 'Timestamp': datetime.datetime(2021, 9, 30, 11, 56, 48, tzinfo=datetime.timezone.utc)}, {'Tweet': 'Sarah Everards family got whole-life sentences of heartbreak and gut-wrenching grief, the moment he abducted and murdered her #💔#SarahEverard https://t.co/kvEae20MyI', 'Timestamp': datetime.datetime(2021, 9, 30, 11, 56, 47, tzinfo=datetime.timezone.utc)}, {'Tweet': \"the sentencing of #SarahEverard 's murderer brings no relief or closure because it comes with no change to, or even acknowledgement of, the systemic misogyny that enables violence against women\", 'Timestamp': datetime.datetime(2021, 9, 30, 11, 56, 45, tzinfo=datetime.timezone.utc)}, {'Tweet': 'RT @AlexJeeKM: #BREAKING Wayne Couzens has been given a whole life order for the kidnap, rape and murder of #SarahEverard', 'Timestamp': datetime.datetime(2021, 9, 30, 11, 56, 45, tzinfo=datetime.timezone.utc)}, {'Tweet': \"RT @OnjaliRauf: Just read the impact statement from Sarah's mother...And I can't... Just know EVERYONE needs to read it. Most especially ev…\", 'Timestamp': datetime.datetime(2021, 9, 30, 11, 56, 44, tzinfo=datetime.timezone.utc)}, {'Tweet': 'RT @jak_ie: ‘Do not get into an unmarked police vehicle. Ask for a marked car. Dial 999 if in doubt’ \\nParm Sandhu former Met Police Chief S…', 'Timestamp': datetime.datetime(2021, 9, 30, 11, 56, 43, tzinfo=datetime.timezone.utc)}, {'Tweet': 'This information is nothing more than a technicality. Knowing these rights would not have saved #SarahEverard. She was murdered partly BECAUSE he is a policeman. Few people have the power, training and equipment to kidnap someone. https://t.co/RMYCc3hfxx', 'Timestamp': datetime.datetime(2021, 9, 30, 11, 56, 41, tzinfo=datetime.timezone.utc)}, {'Tweet': 'RT @NicKeaney: Whole life sentence confirmed 🚨 #SarahEverard', 'Timestamp': datetime.datetime(2021, 9, 30, 11, 56, 38, tzinfo=datetime.timezone.utc)}, {'Tweet': 'And I feel angry for so many reasons. But one of them is that I would have done the same thing as Sarah. I am compliant. I try to do the right thing. I obey authority. I’m not sure I can do that anymore. #SarahEverard https://t.co/BbJWgtJ8zz', 'Timestamp': datetime.datetime(2021, 9, 30, 11, 56, 37, tzinfo=datetime.timezone.utc)}, {'Tweet': 'RT @MakeHerstory1: Our inboxes are flooded this morning with the same heartbreaking question: \"What do I advise women to do if they\\'re appr…', 'Timestamp': datetime.datetime(2021, 9, 30, 11, 56, 36, tzinfo=datetime.timezone.utc)}, {'Tweet': 'RT @MakeHerstory1: Our inboxes are flooded this morning with the same heartbreaking question: \"What do I advise women to do if they\\'re appr…', 'Timestamp': datetime.datetime(2021, 9, 30, 11, 56, 34, tzinfo=datetime.timezone.utc)}, {'Tweet': 'Couzens can appeal against his whole life sentence for the murder of #SarahEverard, so nothing is yet certain. However, once the legal process has been exhausted, there needs to be a full inquiry as to whether the MET had any concerns about Couzens.', 'Timestamp': datetime.datetime(2021, 9, 30, 11, 56, 34, tzinfo=datetime.timezone.utc)}, {'Tweet': \"A rapist, a killer and a cop to boot. Let's hope that #waynecouzens new fellow inmates give him the welcome he deserves.\\n\\n#SarahEverard\", 'Timestamp': datetime.datetime(2021, 9, 30, 11, 56, 32, tzinfo=datetime.timezone.utc)}, {'Tweet': 'RT @sima_kotecha: Mum will often #WhatsApp to ask if I got home ok. Usually get irritated and respond something along lines “I’m not a chil…', 'Timestamp': datetime.datetime(2021, 9, 30, 11, 56, 32, tzinfo=datetime.timezone.utc)}, {'Tweet': 'RT @MakeHerstory1: Our inboxes are flooded this morning with the same heartbreaking question: \"What do I advise women to do if they\\'re appr…', 'Timestamp': datetime.datetime(2021, 9, 30, 11, 56, 31, tzinfo=datetime.timezone.utc)}, {'Tweet': 'RT @MakeHerstory1: Our inboxes are flooded this morning with the same heartbreaking question: \"What do I advise women to do if they\\'re appr…', 'Timestamp': datetime.datetime(2021, 9, 30, 11, 56, 31, tzinfo=datetime.timezone.utc)}, {'Tweet': 'RT @Foxtrot_Cop: The harrowing details of #SarahEverard’s kidnap, rape &amp; murder are told to the Old Bailey.\\n\\nAs an honest police officer, I…', 'Timestamp': datetime.datetime(2021, 9, 30, 11, 56, 31, tzinfo=datetime.timezone.utc)}, {'Tweet': 'RT @JoannaCannon: To anyone who started reading the #SarahEverard reports, only to find it too distressing - I see you, I see you, I see yo…', 'Timestamp': datetime.datetime(2021, 9, 30, 11, 56, 30, tzinfo=datetime.timezone.utc)}, {'Tweet': \"RT @MakeHerstory1: 80 WOMEN have been killed since #saraheverard. 80!\\n\\nAnd the ONLY reason why we know this number &amp; every woman's name is…\", 'Timestamp': datetime.datetime(2021, 9, 30, 11, 56, 30, tzinfo=datetime.timezone.utc)}, {'Tweet': 'RT @allontheboard: Rest in Peace Sarah Everard.\\nMay heaven be the safe place where you walk freely and without fear,\\nas you should have bee…', 'Timestamp': datetime.datetime(2021, 9, 30, 11, 56, 30, tzinfo=datetime.timezone.utc)}, {'Tweet': 'Bravo to the judge for giving out the whole life sentence which is wholly justified. \\n\\nMay he rot in hell\\n\\nRest in peace #SarahEverard ❤️', 'Timestamp': datetime.datetime(2021, 9, 30, 11, 56, 28, tzinfo=datetime.timezone.utc)}, {'Tweet': 'RT @allontheboard: Rest in Peace Sarah Everard.\\nMay heaven be the safe place where you walk freely and without fear,\\nas you should have bee…', 'Timestamp': datetime.datetime(2021, 9, 30, 11, 56, 27, tzinfo=datetime.timezone.utc)}, {'Tweet': 'RT @LSRPlaid: Will it take the murder of #SarahEverard by serving Met officer for Home Office and police to take the killing of women by me…', 'Timestamp': datetime.datetime(2021, 9, 30, 11, 56, 26, tzinfo=datetime.timezone.utc)}, {'Tweet': \"RT @Wommando: I'VE HAD TO PULL OVER. I AM ABSOLUTELY RAGING AND DISTRAUGHT HEARING THIS SICK FUCKER'S FANTASY WAS ALLOWED TO BECOME REALITY…\", 'Timestamp': datetime.datetime(2021, 9, 30, 11, 56, 22, tzinfo=datetime.timezone.utc)}, {'Tweet': 'RT @LSRPlaid: Will it take the murder of #SarahEverard by serving Met officer for Home Office and police to take the killing of women by me…', 'Timestamp': datetime.datetime(2021, 9, 30, 11, 56, 22, tzinfo=datetime.timezone.utc)}, {'Tweet': 'RT @MakeHerstory1: Our inboxes are flooded this morning with the same heartbreaking question: \"What do I advise women to do if they\\'re appr…', 'Timestamp': datetime.datetime(2021, 9, 30, 11, 56, 21, tzinfo=datetime.timezone.utc)}, {'Tweet': 'Glad he got life &amp; hopefully he’ll rot in there #RIP #SarahEverard 🙏🏼', 'Timestamp': datetime.datetime(2021, 9, 30, 11, 56, 16, tzinfo=datetime.timezone.utc)}, {'Tweet': 'RT @nxdwx: RIP to all the women who were walking home. #SabinaNessa #SarahEverard https://t.co/E107ynToen', 'Timestamp': datetime.datetime(2021, 9, 30, 11, 56, 15, tzinfo=datetime.timezone.utc)}, {'Tweet': 'RT @ajplus: BREAKING: A UK police officer was sentenced to life in prison for kidnapping, raping and murdering #SarahEverard.\\n\\nWayne Couzen…', 'Timestamp': datetime.datetime(2021, 9, 30, 11, 56, 15, tzinfo=datetime.timezone.utc)}, {'Tweet': 'RT @AshlieLouna: We need change. Since Sarah\\'s murder in March, a further 80 women in the UK have been killed at the hands of so-called \"me…', 'Timestamp': datetime.datetime(2021, 9, 30, 11, 56, 15, tzinfo=datetime.timezone.utc)}, {'Tweet': 'RT @MakeHerstory1: Our inboxes are flooded this morning with the same heartbreaking question: \"What do I advise women to do if they\\'re appr…', 'Timestamp': datetime.datetime(2021, 9, 30, 11, 56, 14, tzinfo=datetime.timezone.utc)}, {'Tweet': 'Men; call out &amp; educate your problematic male work colleagues, male friends, fathers, brothers &amp; your sons. And call out &amp; educate yourself. If you ignore a problem you become the problem. We all need to work to eliminate misogyny &amp; violence against women. \\n\\n#SarahEverard', 'Timestamp': datetime.datetime(2021, 9, 30, 11, 56, 14, tzinfo=datetime.timezone.utc)}, {'Tweet': 'RT @PackedLunchC4: \"I would now rather resist arrest than comply with the law and get into a car\". @SayeedaWarsi says the long term impact…', 'Timestamp': datetime.datetime(2021, 9, 30, 11, 56, 14, tzinfo=datetime.timezone.utc)}, {'Tweet': 'If only @metpoliceuk would issue &amp; support practical steps to protect women - their voice is lacking and it shouldn’t be women that have to protect ourselves, others need to take responsibility #SarahEverard murder is 💔 and so are the stats that 80 women have been killed since https://t.co/6yIm5RlGnB', 'Timestamp': datetime.datetime(2021, 9, 30, 11, 56, 13, tzinfo=datetime.timezone.utc)}, {'Tweet': 'RT @ajplus: BREAKING: A UK police officer was sentenced to life in prison for kidnapping, raping and murdering #SarahEverard.\\n\\nWayne Couzen…', 'Timestamp': datetime.datetime(2021, 9, 30, 11, 56, 12, tzinfo=datetime.timezone.utc)}, {'Tweet': 'RT @allontheboard: Rest in Peace Sarah Everard.\\nMay heaven be the safe place where you walk freely and without fear,\\nas you should have bee…', 'Timestamp': datetime.datetime(2021, 9, 30, 11, 56, 12, tzinfo=datetime.timezone.utc)}, {'Tweet': \"I don't really know what I'm feeling about the sentencing of #SarahEverard's murderer. A whole life sentence was 100% the right call but it doesn't bring Sarah back, and unless the police commit to meaningful change &amp; proper punishment for VAWG, it doesn't make us feel any safer.\", 'Timestamp': datetime.datetime(2021, 9, 30, 11, 56, 11, tzinfo=datetime.timezone.utc)}]\n"
     ]
    }
   ],
   "source": [
    "tweets = [{'Tweet':tweet.full_text, 'Timestamp':tweet.created_at} for tweet in cursor]\n",
    "print(tweets)"
   ]
  },
  {
   "cell_type": "code",
   "execution_count": 19,
   "metadata": {},
   "outputs": [
    {
     "data": {
      "text/html": [
       "<div>\n",
       "<style scoped>\n",
       "    .dataframe tbody tr th:only-of-type {\n",
       "        vertical-align: middle;\n",
       "    }\n",
       "\n",
       "    .dataframe tbody tr th {\n",
       "        vertical-align: top;\n",
       "    }\n",
       "\n",
       "    .dataframe thead th {\n",
       "        text-align: right;\n",
       "    }\n",
       "</style>\n",
       "<table border=\"1\" class=\"dataframe\">\n",
       "  <thead>\n",
       "    <tr style=\"text-align: right;\">\n",
       "      <th></th>\n",
       "      <th>Tweet</th>\n",
       "      <th>Timestamp</th>\n",
       "    </tr>\n",
       "  </thead>\n",
       "  <tbody>\n",
       "    <tr>\n",
       "      <th>0</th>\n",
       "      <td>RT @LHissrich: Reading this over and over: “At...</td>\n",
       "      <td>2021-09-30 11:56:56+00:00</td>\n",
       "    </tr>\n",
       "    <tr>\n",
       "      <th>1</th>\n",
       "      <td>RT @doctor_oxford: \"She was caring. She was fu...</td>\n",
       "      <td>2021-09-30 11:56:56+00:00</td>\n",
       "    </tr>\n",
       "    <tr>\n",
       "      <th>2</th>\n",
       "      <td>RT @AJEnglish: BREAKING: UK police officer giv...</td>\n",
       "      <td>2021-09-30 11:56:54+00:00</td>\n",
       "    </tr>\n",
       "    <tr>\n",
       "      <th>3</th>\n",
       "      <td>RT @nazirafzal: Dunblane led to better gun con...</td>\n",
       "      <td>2021-09-30 11:56:52+00:00</td>\n",
       "    </tr>\n",
       "    <tr>\n",
       "      <th>4</th>\n",
       "      <td>RT @MakeHerstory1: 80 WOMEN have been killed s...</td>\n",
       "      <td>2021-09-30 11:56:52+00:00</td>\n",
       "    </tr>\n",
       "  </tbody>\n",
       "</table>\n",
       "</div>"
      ],
      "text/plain": [
       "                                               Tweet                 Timestamp\n",
       "0  RT @LHissrich: Reading this over and over: “At... 2021-09-30 11:56:56+00:00\n",
       "1  RT @doctor_oxford: \"She was caring. She was fu... 2021-09-30 11:56:56+00:00\n",
       "2  RT @AJEnglish: BREAKING: UK police officer giv... 2021-09-30 11:56:54+00:00\n",
       "3  RT @nazirafzal: Dunblane led to better gun con... 2021-09-30 11:56:52+00:00\n",
       "4  RT @MakeHerstory1: 80 WOMEN have been killed s... 2021-09-30 11:56:52+00:00"
      ]
     },
     "execution_count": 19,
     "metadata": {},
     "output_type": "execute_result"
    }
   ],
   "source": [
    "df = pd.DataFrame.from_dict(tweets)\n",
    "df.head()"
   ]
  },
  {
   "cell_type": "code",
   "execution_count": 21,
   "metadata": {},
   "outputs": [
    {
     "name": "stdout",
     "output_type": "stream",
     "text": [
      "Requirement already satisfied: textblob in c:\\users\\akhil\\anaconda3\\lib\\site-packages (0.15.3)\n",
      "Requirement already satisfied: nltk>=3.1 in c:\\users\\akhil\\anaconda3\\lib\\site-packages (from textblob) (3.6.2)\n",
      "Requirement already satisfied: regex in c:\\users\\akhil\\anaconda3\\lib\\site-packages (from nltk>=3.1->textblob) (2021.8.3)\n",
      "Requirement already satisfied: tqdm in c:\\users\\akhil\\anaconda3\\lib\\site-packages (from nltk>=3.1->textblob) (4.62.2)\n",
      "Requirement already satisfied: click in c:\\users\\akhil\\anaconda3\\lib\\site-packages (from nltk>=3.1->textblob) (8.0.1)\n",
      "Requirement already satisfied: joblib in c:\\users\\akhil\\anaconda3\\lib\\site-packages (from nltk>=3.1->textblob) (1.0.1)\n",
      "Requirement already satisfied: colorama in c:\\users\\akhil\\anaconda3\\lib\\site-packages (from click->nltk>=3.1->textblob) (0.4.4)\n",
      "Note: you may need to restart the kernel to use updated packages.\n"
     ]
    }
   ],
   "source": [
    "pip install textblob"
   ]
  },
  {
   "cell_type": "code",
   "execution_count": 22,
   "metadata": {},
   "outputs": [],
   "source": [
    "\n",
    "# Import stopwords\n",
    "import nltk\n",
    "from nltk.corpus import stopwords\n",
    "\n",
    "# Import textblob\n",
    "from textblob import Word, TextBlob"
   ]
  },
  {
   "cell_type": "code",
   "execution_count": 23,
   "metadata": {},
   "outputs": [
    {
     "name": "stderr",
     "output_type": "stream",
     "text": [
      "[nltk_data] Downloading package stopwords to\n",
      "[nltk_data]     C:\\Users\\akhil\\AppData\\Roaming\\nltk_data...\n",
      "[nltk_data]   Package stopwords is already up-to-date!\n",
      "[nltk_data] Downloading package wordnet to\n",
      "[nltk_data]     C:\\Users\\akhil\\AppData\\Roaming\\nltk_data...\n",
      "[nltk_data]   Unzipping corpora\\wordnet.zip.\n"
     ]
    }
   ],
   "source": [
    "nltk.download('stopwords')\n",
    "nltk.download('wordnet')\n",
    "stop_words = stopwords.words('english')\n",
    "custom_stopwords = ['RT', '#SarahEverard']"
   ]
  },
  {
   "cell_type": "code",
   "execution_count": 24,
   "metadata": {},
   "outputs": [
    {
     "data": {
      "text/html": [
       "<div>\n",
       "<style scoped>\n",
       "    .dataframe tbody tr th:only-of-type {\n",
       "        vertical-align: middle;\n",
       "    }\n",
       "\n",
       "    .dataframe tbody tr th {\n",
       "        vertical-align: top;\n",
       "    }\n",
       "\n",
       "    .dataframe thead th {\n",
       "        text-align: right;\n",
       "    }\n",
       "</style>\n",
       "<table border=\"1\" class=\"dataframe\">\n",
       "  <thead>\n",
       "    <tr style=\"text-align: right;\">\n",
       "      <th></th>\n",
       "      <th>Tweet</th>\n",
       "      <th>Timestamp</th>\n",
       "      <th>Processed Tweet</th>\n",
       "    </tr>\n",
       "  </thead>\n",
       "  <tbody>\n",
       "    <tr>\n",
       "      <th>0</th>\n",
       "      <td>RT @LHissrich: Reading this over and over: “At...</td>\n",
       "      <td>2021-09-30 11:56:56+00:00</td>\n",
       "      <td>@LHissrich: Reading over: “At point fairly soo...</td>\n",
       "    </tr>\n",
       "    <tr>\n",
       "      <th>1</th>\n",
       "      <td>RT @doctor_oxford: \"She was caring. She was fu...</td>\n",
       "      <td>2021-09-30 11:56:56+00:00</td>\n",
       "      <td>@doctor_oxford: \"She caring. She funny. She cl...</td>\n",
       "    </tr>\n",
       "    <tr>\n",
       "      <th>2</th>\n",
       "      <td>RT @AJEnglish: BREAKING: UK police officer giv...</td>\n",
       "      <td>2021-09-30 11:56:54+00:00</td>\n",
       "      <td>@AJEnglish: BREAKING: UK police officer given ...</td>\n",
       "    </tr>\n",
       "    <tr>\n",
       "      <th>3</th>\n",
       "      <td>RT @nazirafzal: Dunblane led to better gun con...</td>\n",
       "      <td>2021-09-30 11:56:52+00:00</td>\n",
       "      <td>@nazirafzal: Dunblane led better gun control H...</td>\n",
       "    </tr>\n",
       "    <tr>\n",
       "      <th>4</th>\n",
       "      <td>RT @MakeHerstory1: 80 WOMEN have been killed s...</td>\n",
       "      <td>2021-09-30 11:56:52+00:00</td>\n",
       "      <td>@MakeHerstory1: 80 WOMEN killed since #sarahev...</td>\n",
       "    </tr>\n",
       "  </tbody>\n",
       "</table>\n",
       "</div>"
      ],
      "text/plain": [
       "                                               Tweet  \\\n",
       "0  RT @LHissrich: Reading this over and over: “At...   \n",
       "1  RT @doctor_oxford: \"She was caring. She was fu...   \n",
       "2  RT @AJEnglish: BREAKING: UK police officer giv...   \n",
       "3  RT @nazirafzal: Dunblane led to better gun con...   \n",
       "4  RT @MakeHerstory1: 80 WOMEN have been killed s...   \n",
       "\n",
       "                  Timestamp                                    Processed Tweet  \n",
       "0 2021-09-30 11:56:56+00:00  @LHissrich: Reading over: “At point fairly soo...  \n",
       "1 2021-09-30 11:56:56+00:00  @doctor_oxford: \"She caring. She funny. She cl...  \n",
       "2 2021-09-30 11:56:54+00:00  @AJEnglish: BREAKING: UK police officer given ...  \n",
       "3 2021-09-30 11:56:52+00:00  @nazirafzal: Dunblane led better gun control H...  \n",
       "4 2021-09-30 11:56:52+00:00  @MakeHerstory1: 80 WOMEN killed since #sarahev...  "
      ]
     },
     "execution_count": 24,
     "metadata": {},
     "output_type": "execute_result"
    }
   ],
   "source": [
    "def preprocess_tweets(tweet, custom_stopwords):\n",
    "    processed_tweet = tweet\n",
    "    processed_tweet.replace('[^\\w\\s]', '')\n",
    "    processed_tweet = \" \".join(word for word in processed_tweet.split() if word not in stop_words)\n",
    "    processed_tweet = \" \".join(word for word in processed_tweet.split() if word not in custom_stopwords)\n",
    "    processed_tweet = \" \".join(Word(word).lemmatize() for word in processed_tweet.split())\n",
    "    return(processed_tweet)\n",
    "\n",
    "df['Processed Tweet'] = df['Tweet'].apply(lambda x: preprocess_tweets(x, custom_stopwords))\n",
    "df.head()"
   ]
  },
  {
   "cell_type": "code",
   "execution_count": 25,
   "metadata": {},
   "outputs": [
    {
     "name": "stdout",
     "output_type": "stream",
     "text": [
      "Base review\n",
      " RT @LHissrich: Reading this over and over: “At some point fairly soon after driving from the pavement onto the South Circular, and having n…\n",
      "\n",
      "------------------------------------\n",
      "\n",
      "Cleaned and lemmatized review\n",
      " @LHissrich: Reading over: “At point fairly soon driving pavement onto South Circular, n…\n"
     ]
    }
   ],
   "source": [
    "print('Base review\\n', df['Tweet'][0])\n",
    "print('\\n------------------------------------\\n')\n",
    "print('Cleaned and lemmatized review\\n', df['Processed Tweet'][0])"
   ]
  },
  {
   "cell_type": "code",
   "execution_count": 26,
   "metadata": {},
   "outputs": [],
   "source": [
    "df['polarity'] = df['Processed Tweet'].apply(lambda x: TextBlob(x).sentiment[0])\n",
    "df['subjectivity'] = df['Processed Tweet'].apply(lambda x: TextBlob(x).sentiment[1])"
   ]
  },
  {
   "cell_type": "code",
   "execution_count": 27,
   "metadata": {},
   "outputs": [
    {
     "data": {
      "text/html": [
       "<div>\n",
       "<style scoped>\n",
       "    .dataframe tbody tr th:only-of-type {\n",
       "        vertical-align: middle;\n",
       "    }\n",
       "\n",
       "    .dataframe tbody tr th {\n",
       "        vertical-align: top;\n",
       "    }\n",
       "\n",
       "    .dataframe thead th {\n",
       "        text-align: right;\n",
       "    }\n",
       "</style>\n",
       "<table border=\"1\" class=\"dataframe\">\n",
       "  <thead>\n",
       "    <tr style=\"text-align: right;\">\n",
       "      <th></th>\n",
       "      <th>Tweet</th>\n",
       "      <th>Timestamp</th>\n",
       "      <th>Processed Tweet</th>\n",
       "      <th>polarity</th>\n",
       "      <th>subjectivity</th>\n",
       "    </tr>\n",
       "  </thead>\n",
       "  <tbody>\n",
       "    <tr>\n",
       "      <th>0</th>\n",
       "      <td>RT @LHissrich: Reading this over and over: “At...</td>\n",
       "      <td>2021-09-30 11:56:56+00:00</td>\n",
       "      <td>@LHissrich: Reading over: “At point fairly soo...</td>\n",
       "      <td>0.700000</td>\n",
       "      <td>0.900000</td>\n",
       "    </tr>\n",
       "    <tr>\n",
       "      <th>1</th>\n",
       "      <td>RT @doctor_oxford: \"She was caring. She was fu...</td>\n",
       "      <td>2021-09-30 11:56:56+00:00</td>\n",
       "      <td>@doctor_oxford: \"She caring. She funny. She cl...</td>\n",
       "      <td>0.566667</td>\n",
       "      <td>0.958333</td>\n",
       "    </tr>\n",
       "    <tr>\n",
       "      <th>2</th>\n",
       "      <td>RT @AJEnglish: BREAKING: UK police officer giv...</td>\n",
       "      <td>2021-09-30 11:56:54+00:00</td>\n",
       "      <td>@AJEnglish: BREAKING: UK police officer given ...</td>\n",
       "      <td>0.200000</td>\n",
       "      <td>0.400000</td>\n",
       "    </tr>\n",
       "    <tr>\n",
       "      <th>3</th>\n",
       "      <td>RT @nazirafzal: Dunblane led to better gun con...</td>\n",
       "      <td>2021-09-30 11:56:52+00:00</td>\n",
       "      <td>@nazirafzal: Dunblane led better gun control H...</td>\n",
       "      <td>0.375000</td>\n",
       "      <td>0.375000</td>\n",
       "    </tr>\n",
       "    <tr>\n",
       "      <th>4</th>\n",
       "      <td>RT @MakeHerstory1: 80 WOMEN have been killed s...</td>\n",
       "      <td>2021-09-30 11:56:52+00:00</td>\n",
       "      <td>@MakeHerstory1: 80 WOMEN killed since #sarahev...</td>\n",
       "      <td>-0.125000</td>\n",
       "      <td>0.500000</td>\n",
       "    </tr>\n",
       "  </tbody>\n",
       "</table>\n",
       "</div>"
      ],
      "text/plain": [
       "                                               Tweet  \\\n",
       "0  RT @LHissrich: Reading this over and over: “At...   \n",
       "1  RT @doctor_oxford: \"She was caring. She was fu...   \n",
       "2  RT @AJEnglish: BREAKING: UK police officer giv...   \n",
       "3  RT @nazirafzal: Dunblane led to better gun con...   \n",
       "4  RT @MakeHerstory1: 80 WOMEN have been killed s...   \n",
       "\n",
       "                  Timestamp  \\\n",
       "0 2021-09-30 11:56:56+00:00   \n",
       "1 2021-09-30 11:56:56+00:00   \n",
       "2 2021-09-30 11:56:54+00:00   \n",
       "3 2021-09-30 11:56:52+00:00   \n",
       "4 2021-09-30 11:56:52+00:00   \n",
       "\n",
       "                                     Processed Tweet  polarity  subjectivity  \n",
       "0  @LHissrich: Reading over: “At point fairly soo...  0.700000      0.900000  \n",
       "1  @doctor_oxford: \"She caring. She funny. She cl...  0.566667      0.958333  \n",
       "2  @AJEnglish: BREAKING: UK police officer given ...  0.200000      0.400000  \n",
       "3  @nazirafzal: Dunblane led better gun control H...  0.375000      0.375000  \n",
       "4  @MakeHerstory1: 80 WOMEN killed since #sarahev... -0.125000      0.500000  "
      ]
     },
     "execution_count": 27,
     "metadata": {},
     "output_type": "execute_result"
    }
   ],
   "source": [
    "df.head()"
   ]
  },
  {
   "cell_type": "code",
   "execution_count": 50,
   "metadata": {},
   "outputs": [],
   "source": [
    "numberOfTweets = 250\n",
    "tweets = []\n",
    "likes = []\n",
    "time = []\n",
    "\n",
    "for i in tw.Cursor(api.user_timeline, screen_name = \"AOC\", tweet_mode = \"extended\").items(numberOfTweets):\n",
    "    tweets.append(i.full_text)\n",
    "    likes.append(i.favorite_count)\n",
    "    time.append(i.created_at)"
   ]
  },
  {
   "cell_type": "code",
   "execution_count": 51,
   "metadata": {},
   "outputs": [
    {
     "data": {
      "text/html": [
       "<div>\n",
       "<style scoped>\n",
       "    .dataframe tbody tr th:only-of-type {\n",
       "        vertical-align: middle;\n",
       "    }\n",
       "\n",
       "    .dataframe tbody tr th {\n",
       "        vertical-align: top;\n",
       "    }\n",
       "\n",
       "    .dataframe thead th {\n",
       "        text-align: right;\n",
       "    }\n",
       "</style>\n",
       "<table border=\"1\" class=\"dataframe\">\n",
       "  <thead>\n",
       "    <tr style=\"text-align: right;\">\n",
       "      <th></th>\n",
       "      <th>tweets</th>\n",
       "      <th>likes</th>\n",
       "      <th>time</th>\n",
       "    </tr>\n",
       "  </thead>\n",
       "  <tbody>\n",
       "    <tr>\n",
       "      <th>0</th>\n",
       "      <td>RT @MaddowBlog: \"The read that we have is that...</td>\n",
       "      <td>0</td>\n",
       "      <td>2021-09-30 02:33:41+00:00</td>\n",
       "    </tr>\n",
       "    <tr>\n",
       "      <th>1</th>\n",
       "      <td>RT @MaddowBlog: Despite it all, Rep. Ocasio-Co...</td>\n",
       "      <td>0</td>\n",
       "      <td>2021-09-30 02:29:47+00:00</td>\n",
       "    </tr>\n",
       "    <tr>\n",
       "      <th>2</th>\n",
       "      <td>RT @RBReich: Bombshell new report from @ProPub...</td>\n",
       "      <td>0</td>\n",
       "      <td>2021-09-30 02:04:25+00:00</td>\n",
       "    </tr>\n",
       "    <tr>\n",
       "      <th>3</th>\n",
       "      <td>RT @thereidout: In an exclusive seen first on ...</td>\n",
       "      <td>0</td>\n",
       "      <td>2021-09-30 00:51:02+00:00</td>\n",
       "    </tr>\n",
       "    <tr>\n",
       "      <th>4</th>\n",
       "      <td>RT @RevDrBarber: Members of the media: This is...</td>\n",
       "      <td>0</td>\n",
       "      <td>2021-09-30 00:13:04+00:00</td>\n",
       "    </tr>\n",
       "  </tbody>\n",
       "</table>\n",
       "</div>"
      ],
      "text/plain": [
       "                                              tweets  likes  \\\n",
       "0  RT @MaddowBlog: \"The read that we have is that...      0   \n",
       "1  RT @MaddowBlog: Despite it all, Rep. Ocasio-Co...      0   \n",
       "2  RT @RBReich: Bombshell new report from @ProPub...      0   \n",
       "3  RT @thereidout: In an exclusive seen first on ...      0   \n",
       "4  RT @RevDrBarber: Members of the media: This is...      0   \n",
       "\n",
       "                       time  \n",
       "0 2021-09-30 02:33:41+00:00  \n",
       "1 2021-09-30 02:29:47+00:00  \n",
       "2 2021-09-30 02:04:25+00:00  \n",
       "3 2021-09-30 00:51:02+00:00  \n",
       "4 2021-09-30 00:13:04+00:00  "
      ]
     },
     "execution_count": 51,
     "metadata": {},
     "output_type": "execute_result"
    }
   ],
   "source": [
    "dfAOC = pd.DataFrame({'tweets': tweets, \"likes\": likes, \"time\": time})\n",
    "dfAOC.head()"
   ]
  },
  {
   "cell_type": "code",
   "execution_count": 52,
   "metadata": {},
   "outputs": [
    {
     "name": "stdout",
     "output_type": "stream",
     "text": [
      "<class 'pandas.core.frame.DataFrame'>\n",
      "RangeIndex: 250 entries, 0 to 249\n",
      "Data columns (total 3 columns):\n",
      " #   Column  Non-Null Count  Dtype              \n",
      "---  ------  --------------  -----              \n",
      " 0   tweets  250 non-null    object             \n",
      " 1   likes   250 non-null    int64              \n",
      " 2   time    250 non-null    datetime64[ns, UTC]\n",
      "dtypes: datetime64[ns, UTC](1), int64(1), object(1)\n",
      "memory usage: 6.0+ KB\n"
     ]
    }
   ],
   "source": [
    "dfAOC.info()"
   ]
  },
  {
   "cell_type": "code",
   "execution_count": 53,
   "metadata": {},
   "outputs": [],
   "source": [
    "dfAOC = dfAOC[~dfAOC.tweets.str.contains(\"RT\")]"
   ]
  },
  {
   "cell_type": "code",
   "execution_count": 54,
   "metadata": {},
   "outputs": [
    {
     "data": {
      "text/html": [
       "<div>\n",
       "<style scoped>\n",
       "    .dataframe tbody tr th:only-of-type {\n",
       "        vertical-align: middle;\n",
       "    }\n",
       "\n",
       "    .dataframe tbody tr th {\n",
       "        vertical-align: top;\n",
       "    }\n",
       "\n",
       "    .dataframe thead th {\n",
       "        text-align: right;\n",
       "    }\n",
       "</style>\n",
       "<table border=\"1\" class=\"dataframe\">\n",
       "  <thead>\n",
       "    <tr style=\"text-align: right;\">\n",
       "      <th></th>\n",
       "      <th>tweets</th>\n",
       "      <th>likes</th>\n",
       "      <th>time</th>\n",
       "    </tr>\n",
       "  </thead>\n",
       "  <tbody>\n",
       "    <tr>\n",
       "      <th>8</th>\n",
       "      <td>Together indeed, @POTUS! 💪🏽\\n\\nFrom Medicare e...</td>\n",
       "      <td>11430</td>\n",
       "      <td>2021-09-29 23:56:38+00:00</td>\n",
       "    </tr>\n",
       "    <tr>\n",
       "      <th>13</th>\n",
       "      <td>@MarkPocan @RepAOC All you for writing it, @Ma...</td>\n",
       "      <td>3885</td>\n",
       "      <td>2021-09-23 14:42:51+00:00</td>\n",
       "    </tr>\n",
       "    <tr>\n",
       "      <th>17</th>\n",
       "      <td>Utterly shameful. https://t.co/yWNKTCVa24</td>\n",
       "      <td>36780</td>\n",
       "      <td>2021-09-22 21:53:39+00:00</td>\n",
       "    </tr>\n",
       "    <tr>\n",
       "      <th>22</th>\n",
       "      <td>@jonathanweisman 😑 ok, point taken. It’s still...</td>\n",
       "      <td>1770</td>\n",
       "      <td>2021-09-22 19:13:07+00:00</td>\n",
       "    </tr>\n",
       "    <tr>\n",
       "      <th>23</th>\n",
       "      <td>@lilpolicybae Awesome meeting you! Keeping goi...</td>\n",
       "      <td>1688</td>\n",
       "      <td>2021-09-22 04:12:50+00:00</td>\n",
       "    </tr>\n",
       "    <tr>\n",
       "      <th>...</th>\n",
       "      <td>...</td>\n",
       "      <td>...</td>\n",
       "      <td>...</td>\n",
       "    </tr>\n",
       "    <tr>\n",
       "      <th>220</th>\n",
       "      <td>In both small ways and large, “it always seems...</td>\n",
       "      <td>107603</td>\n",
       "      <td>2021-08-03 22:55:18+00:00</td>\n",
       "    </tr>\n",
       "    <tr>\n",
       "      <th>235</th>\n",
       "      <td>Housing is a human right. 🏡 Thank you for lead...</td>\n",
       "      <td>58020</td>\n",
       "      <td>2021-08-01 22:59:48+00:00</td>\n",
       "    </tr>\n",
       "    <tr>\n",
       "      <th>237</th>\n",
       "      <td>¡Así se hace! 💜🇵🇷 Qué orgullo 🇵🇷 https://t.co/...</td>\n",
       "      <td>12891</td>\n",
       "      <td>2021-08-01 14:40:44+00:00</td>\n",
       "    </tr>\n",
       "    <tr>\n",
       "      <th>243</th>\n",
       "      <td>We’re out here to extend the moratorium, so wh...</td>\n",
       "      <td>36296</td>\n",
       "      <td>2021-08-01 03:57:12+00:00</td>\n",
       "    </tr>\n",
       "    <tr>\n",
       "      <th>245</th>\n",
       "      <td>Let’s go!! @RepMaxineWaters https://t.co/z2rsQ...</td>\n",
       "      <td>8967</td>\n",
       "      <td>2021-08-01 02:41:34+00:00</td>\n",
       "    </tr>\n",
       "  </tbody>\n",
       "</table>\n",
       "<p>131 rows × 3 columns</p>\n",
       "</div>"
      ],
      "text/plain": [
       "                                                tweets   likes  \\\n",
       "8    Together indeed, @POTUS! 💪🏽\\n\\nFrom Medicare e...   11430   \n",
       "13   @MarkPocan @RepAOC All you for writing it, @Ma...    3885   \n",
       "17           Utterly shameful. https://t.co/yWNKTCVa24   36780   \n",
       "22   @jonathanweisman 😑 ok, point taken. It’s still...    1770   \n",
       "23   @lilpolicybae Awesome meeting you! Keeping goi...    1688   \n",
       "..                                                 ...     ...   \n",
       "220  In both small ways and large, “it always seems...  107603   \n",
       "235  Housing is a human right. 🏡 Thank you for lead...   58020   \n",
       "237  ¡Así se hace! 💜🇵🇷 Qué orgullo 🇵🇷 https://t.co/...   12891   \n",
       "243  We’re out here to extend the moratorium, so wh...   36296   \n",
       "245  Let’s go!! @RepMaxineWaters https://t.co/z2rsQ...    8967   \n",
       "\n",
       "                         time  \n",
       "8   2021-09-29 23:56:38+00:00  \n",
       "13  2021-09-23 14:42:51+00:00  \n",
       "17  2021-09-22 21:53:39+00:00  \n",
       "22  2021-09-22 19:13:07+00:00  \n",
       "23  2021-09-22 04:12:50+00:00  \n",
       "..                        ...  \n",
       "220 2021-08-03 22:55:18+00:00  \n",
       "235 2021-08-01 22:59:48+00:00  \n",
       "237 2021-08-01 14:40:44+00:00  \n",
       "243 2021-08-01 03:57:12+00:00  \n",
       "245 2021-08-01 02:41:34+00:00  \n",
       "\n",
       "[131 rows x 3 columns]"
      ]
     },
     "execution_count": 54,
     "metadata": {},
     "output_type": "execute_result"
    }
   ],
   "source": [
    "dfAOC"
   ]
  },
  {
   "cell_type": "code",
   "execution_count": 55,
   "metadata": {},
   "outputs": [],
   "source": [
    "dfAOC = dfAOC.reset_index(drop = True)"
   ]
  },
  {
   "cell_type": "code",
   "execution_count": 56,
   "metadata": {},
   "outputs": [
    {
     "data": {
      "text/html": [
       "<div>\n",
       "<style scoped>\n",
       "    .dataframe tbody tr th:only-of-type {\n",
       "        vertical-align: middle;\n",
       "    }\n",
       "\n",
       "    .dataframe tbody tr th {\n",
       "        vertical-align: top;\n",
       "    }\n",
       "\n",
       "    .dataframe thead th {\n",
       "        text-align: right;\n",
       "    }\n",
       "</style>\n",
       "<table border=\"1\" class=\"dataframe\">\n",
       "  <thead>\n",
       "    <tr style=\"text-align: right;\">\n",
       "      <th></th>\n",
       "      <th>tweets</th>\n",
       "      <th>likes</th>\n",
       "      <th>time</th>\n",
       "    </tr>\n",
       "  </thead>\n",
       "  <tbody>\n",
       "    <tr>\n",
       "      <th>0</th>\n",
       "      <td>Together indeed, @POTUS! 💪🏽\\n\\nFrom Medicare e...</td>\n",
       "      <td>11430</td>\n",
       "      <td>2021-09-29 23:56:38+00:00</td>\n",
       "    </tr>\n",
       "    <tr>\n",
       "      <th>1</th>\n",
       "      <td>@MarkPocan @RepAOC All you for writing it, @Ma...</td>\n",
       "      <td>3885</td>\n",
       "      <td>2021-09-23 14:42:51+00:00</td>\n",
       "    </tr>\n",
       "    <tr>\n",
       "      <th>2</th>\n",
       "      <td>Utterly shameful. https://t.co/yWNKTCVa24</td>\n",
       "      <td>36780</td>\n",
       "      <td>2021-09-22 21:53:39+00:00</td>\n",
       "    </tr>\n",
       "    <tr>\n",
       "      <th>3</th>\n",
       "      <td>@jonathanweisman 😑 ok, point taken. It’s still...</td>\n",
       "      <td>1770</td>\n",
       "      <td>2021-09-22 19:13:07+00:00</td>\n",
       "    </tr>\n",
       "    <tr>\n",
       "      <th>4</th>\n",
       "      <td>@lilpolicybae Awesome meeting you! Keeping goi...</td>\n",
       "      <td>1688</td>\n",
       "      <td>2021-09-22 04:12:50+00:00</td>\n",
       "    </tr>\n",
       "    <tr>\n",
       "      <th>...</th>\n",
       "      <td>...</td>\n",
       "      <td>...</td>\n",
       "      <td>...</td>\n",
       "    </tr>\n",
       "    <tr>\n",
       "      <th>126</th>\n",
       "      <td>In both small ways and large, “it always seems...</td>\n",
       "      <td>107603</td>\n",
       "      <td>2021-08-03 22:55:18+00:00</td>\n",
       "    </tr>\n",
       "    <tr>\n",
       "      <th>127</th>\n",
       "      <td>Housing is a human right. 🏡 Thank you for lead...</td>\n",
       "      <td>58020</td>\n",
       "      <td>2021-08-01 22:59:48+00:00</td>\n",
       "    </tr>\n",
       "    <tr>\n",
       "      <th>128</th>\n",
       "      <td>¡Así se hace! 💜🇵🇷 Qué orgullo 🇵🇷 https://t.co/...</td>\n",
       "      <td>12891</td>\n",
       "      <td>2021-08-01 14:40:44+00:00</td>\n",
       "    </tr>\n",
       "    <tr>\n",
       "      <th>129</th>\n",
       "      <td>We’re out here to extend the moratorium, so wh...</td>\n",
       "      <td>36296</td>\n",
       "      <td>2021-08-01 03:57:12+00:00</td>\n",
       "    </tr>\n",
       "    <tr>\n",
       "      <th>130</th>\n",
       "      <td>Let’s go!! @RepMaxineWaters https://t.co/z2rsQ...</td>\n",
       "      <td>8967</td>\n",
       "      <td>2021-08-01 02:41:34+00:00</td>\n",
       "    </tr>\n",
       "  </tbody>\n",
       "</table>\n",
       "<p>131 rows × 3 columns</p>\n",
       "</div>"
      ],
      "text/plain": [
       "                                                tweets   likes  \\\n",
       "0    Together indeed, @POTUS! 💪🏽\\n\\nFrom Medicare e...   11430   \n",
       "1    @MarkPocan @RepAOC All you for writing it, @Ma...    3885   \n",
       "2            Utterly shameful. https://t.co/yWNKTCVa24   36780   \n",
       "3    @jonathanweisman 😑 ok, point taken. It’s still...    1770   \n",
       "4    @lilpolicybae Awesome meeting you! Keeping goi...    1688   \n",
       "..                                                 ...     ...   \n",
       "126  In both small ways and large, “it always seems...  107603   \n",
       "127  Housing is a human right. 🏡 Thank you for lead...   58020   \n",
       "128  ¡Así se hace! 💜🇵🇷 Qué orgullo 🇵🇷 https://t.co/...   12891   \n",
       "129  We’re out here to extend the moratorium, so wh...   36296   \n",
       "130  Let’s go!! @RepMaxineWaters https://t.co/z2rsQ...    8967   \n",
       "\n",
       "                         time  \n",
       "0   2021-09-29 23:56:38+00:00  \n",
       "1   2021-09-23 14:42:51+00:00  \n",
       "2   2021-09-22 21:53:39+00:00  \n",
       "3   2021-09-22 19:13:07+00:00  \n",
       "4   2021-09-22 04:12:50+00:00  \n",
       "..                        ...  \n",
       "126 2021-08-03 22:55:18+00:00  \n",
       "127 2021-08-01 22:59:48+00:00  \n",
       "128 2021-08-01 14:40:44+00:00  \n",
       "129 2021-08-01 03:57:12+00:00  \n",
       "130 2021-08-01 02:41:34+00:00  \n",
       "\n",
       "[131 rows x 3 columns]"
      ]
     },
     "execution_count": 56,
     "metadata": {},
     "output_type": "execute_result"
    }
   ],
   "source": [
    "dfAOC"
   ]
  },
  {
   "cell_type": "code",
   "execution_count": 4,
   "metadata": {},
   "outputs": [],
   "source": [
    "import logging\n",
    "import sys"
   ]
  },
  {
   "cell_type": "code",
   "execution_count": 11,
   "metadata": {},
   "outputs": [
    {
     "name": "stderr",
     "output_type": "stream",
     "text": [
      "Unexpected parameter: timeout\n",
      "Unexpected parameter: timeout\n",
      "Unexpected parameter: timeout\n",
      "Unexpected parameter: timeout\n",
      "Unexpected parameter: timeout\n",
      "Unexpected parameter: timeout\n",
      "Unexpected parameter: timeout\n",
      "Unexpected parameter: timeout\n",
      "Unexpected parameter: timeout\n",
      "Unexpected parameter: timeout\n"
     ]
    },
    {
     "name": "stdout",
     "output_type": "stream",
     "text": [
      "Tweet : We have a path to usher in a new era of economic growth that benefits everybody, not just those at the top, with th… https://t.co/2R5g5EAOd1\n",
      "Replies : @JoeBiden #DV2021\n",
      "Replies : @JoeBiden He is a disgrace in just about every department.\n",
      "Replies : @JoeBiden We do - but will YOU and your administration resign and leave the country?\n",
      "Replies : @JoeBiden Then maybe what you need to do with cast support stimulus check start helping out the poor unfortunate instead of the rich\n",
      "Replies : @JoeBiden Tree Equity and sex changes for older people? https://t.co/ECIqnKIpMX\n",
      "Replies : @JoeBiden Nearly 30,000 Haitian migrants have already made their way over the U.S.-Mexico border in recent weeks, b… https://t.co/k2wjOuU3gP\n",
      "Replies : @JoeBiden Could somebody advise me about the whereabouts of the USA ‘working class’? It seems that US citizens are… https://t.co/TOkmQxuJ4n\n",
      "Replies : @JoeBiden Strip Manchin of his committee assignments. We can’t tolerate his bad faith sabotage. 350 million America… https://t.co/Zl9D1HxG98\n",
      "Replies : @JoeBiden Yeah like INFLATION, that's already happening, and only the willfully ignorant don't see it, they're blin… https://t.co/rB2OQS3gc2\n",
      "Replies : @JoeBiden Your stock market is such a JOKE!!! All time highs yet the past 3 months, MMs have managed to snatch 91%… https://t.co/AHLIR588ND\n",
      "Replies : @JoeBiden Got a bed available for you memory care assisted living\n",
      "Replies : @JoeBiden The Federal Deficit and national debt could be eliminated by Congress passing a couple of laws. The 3.5 t… https://t.co/vGb6mtXcuI\n",
      "Replies : @JoeBiden How is this gonna help the lower and middle class.\n",
      "Replies : @JoeBiden ratio + you fell off + yb better + make better music + hood listens to geometry soundtrack now\n",
      "Replies : @JoeBiden The Providence jump out boys have a track runner in the backseat and two detectives in the front seat and… https://t.co/l8eyE8QVKJ\n",
      "Replies : @JoeBiden Donald Trump gives better head than you\n",
      "Replies : @JoeBiden Trump 2024\n",
      "Replies : @JoeBiden 9/11 didn't happen\n",
      "Replies : @JoeBiden mr biden have you heard of blundation\n",
      "Replies : @JoeBiden Don’t vilify the people who followed the previous path set before them.  They followed the rules and did… https://t.co/HcGPgRz2NW\n",
      "Replies : @JoeBiden https://t.co/hDaw93yYlh\n",
      "Replies : @JoeBiden This guy better relocate out of providence they'll put him in the tombs at RI Hospital Im really tough th… https://t.co/JiQKeur6rK\n",
      "Replies : @JoeBiden @KamalaHarris doesn't answer.  Will you answer? https://t.co/iikwFyjymz\n",
      "Replies : @JoeBiden Büyük domuz  Bozkurtlar sizi bekliyor https://t.co/XS3PSFUbzB\n",
      "Replies : @JoeBiden yeah okay hitler\n",
      "Replies : @JoeBiden https://t.co/MH9ZbarRNM\n",
      "Replies : @JoeBiden Even Buddy's high ranking officers dont like him its tough they'll do something\n"
     ]
    },
    {
     "ename": "TypeError",
     "evalue": "append() takes exactly one argument (0 given)",
     "output_type": "error",
     "traceback": [
      "\u001b[1;31m---------------------------------------------------------------------------\u001b[0m",
      "\u001b[1;31mTypeError\u001b[0m                                 Traceback (most recent call last)",
      "\u001b[1;32m~\\AppData\\Local\\Temp/ipykernel_20064/3186612436.py\u001b[0m in \u001b[0;36m<module>\u001b[1;34m\u001b[0m\n\u001b[0;32m     39\u001b[0m     \u001b[1;32mfor\u001b[0m \u001b[0melements\u001b[0m \u001b[1;32min\u001b[0m \u001b[0mreplies\u001b[0m\u001b[1;33m:\u001b[0m\u001b[1;33m\u001b[0m\u001b[1;33m\u001b[0m\u001b[0m\n\u001b[0;32m     40\u001b[0m         \u001b[0mprint\u001b[0m\u001b[1;33m(\u001b[0m\u001b[1;34m\"Replies :\"\u001b[0m\u001b[1;33m,\u001b[0m\u001b[0melements\u001b[0m\u001b[1;33m)\u001b[0m\u001b[1;33m\u001b[0m\u001b[1;33m\u001b[0m\u001b[0m\n\u001b[1;32m---> 41\u001b[1;33m     \u001b[0mreplies\u001b[0m\u001b[1;33m.\u001b[0m\u001b[0mappend\u001b[0m\u001b[1;33m(\u001b[0m\u001b[1;33m)\u001b[0m\u001b[1;33m\u001b[0m\u001b[1;33m\u001b[0m\u001b[0m\n\u001b[0m",
      "\u001b[1;31mTypeError\u001b[0m: append() takes exactly one argument (0 given)"
     ]
    }
   ],
   "source": [
    "user_name = \"@JoeBiden\"\n",
    "tweet_id = 1443332006742568967\n",
    "\n",
    "# replies = tw.Cursor(api.search_tweets, q='to:{}'.format(user_name),\n",
    "#                                 since_id=tweet_id, tweet_mode='extended').items(10)\n",
    "# while True:\n",
    "#     try:\n",
    "#         reply = replies.next()\n",
    "#         if not hasattr(reply, 'in_reply_to_status_id_str'):\n",
    "#             continue\n",
    "#         if reply.in_reply_to_status_id == tweet_id:\n",
    "#            logging.info(\"reply of tweet:{}\".format(reply.full_text))\n",
    "\n",
    "#     except tw.RateLimitError as e:\n",
    "#         logging.error(\"Twitter api rate limit reached\".format(e))\n",
    "#         time.sleep(60)\n",
    "#         continue\n",
    "\n",
    "#     except tw.TweepError as e:\n",
    "#         logging.error(\"Tweepy error occured:{}\".format(e))\n",
    "#         break\n",
    "\n",
    "#     except StopIteration:\n",
    "#         break\n",
    "\n",
    "#     except Exception as e:\n",
    "#         logger.error(\"Failed while fetching replies {}\".format(e))\n",
    "#         break\n",
    "\n",
    "\n",
    "replies=[] \n",
    "non_bmp_map = dict.fromkeys(range(0x10000, sys.maxunicode + 1), 0xfffd)  \n",
    "for full_tweets in tw.Cursor(api.user_timeline,screen_name=user_name,timeout=999999).items(1):\n",
    "    for tweet in tw.Cursor(api.search_tweets,q='to:'+user_name,result_type='recent',timeout=999999).items(100):\n",
    "        if hasattr(tweet, 'in_reply_to_status_id_str'):\n",
    "            if (tweet.in_reply_to_status_id_str==full_tweets.id_str):\n",
    "                replies.append(tweet.text)\n",
    "    print(\"Tweet :\",full_tweets.text.translate(non_bmp_map))\n",
    "    for elements in replies:\n",
    "        print(\"Replies :\",elements)\n",
    "#     replies.clear()\n"
   ]
  },
  {
   "cell_type": "code",
   "execution_count": 12,
   "metadata": {},
   "outputs": [
    {
     "data": {
      "text/plain": [
       "['@JoeBiden #DV2021',\n",
       " '@JoeBiden He is a disgrace in just about every department.',\n",
       " '@JoeBiden We do - but will YOU and your administration resign and leave the country?',\n",
       " '@JoeBiden Then maybe what you need to do with cast support stimulus check start helping out the poor unfortunate instead of the rich',\n",
       " '@JoeBiden Tree Equity and sex changes for older people? https://t.co/ECIqnKIpMX',\n",
       " '@JoeBiden Nearly 30,000 Haitian migrants have already made their way over the U.S.-Mexico border in recent weeks, b… https://t.co/k2wjOuU3gP',\n",
       " '@JoeBiden Could somebody advise me about the whereabouts of the USA ‘working class’? It seems that US citizens are… https://t.co/TOkmQxuJ4n',\n",
       " '@JoeBiden Strip Manchin of his committee assignments. We can’t tolerate his bad faith sabotage. 350 million America… https://t.co/Zl9D1HxG98',\n",
       " \"@JoeBiden Yeah like INFLATION, that's already happening, and only the willfully ignorant don't see it, they're blin… https://t.co/rB2OQS3gc2\",\n",
       " '@JoeBiden Your stock market is such a JOKE!!! All time highs yet the past 3 months, MMs have managed to snatch 91%… https://t.co/AHLIR588ND',\n",
       " '@JoeBiden Got a bed available for you memory care assisted living',\n",
       " '@JoeBiden The Federal Deficit and national debt could be eliminated by Congress passing a couple of laws. The 3.5 t… https://t.co/vGb6mtXcuI',\n",
       " '@JoeBiden How is this gonna help the lower and middle class.',\n",
       " '@JoeBiden ratio + you fell off + yb better + make better music + hood listens to geometry soundtrack now',\n",
       " '@JoeBiden The Providence jump out boys have a track runner in the backseat and two detectives in the front seat and… https://t.co/l8eyE8QVKJ',\n",
       " '@JoeBiden Donald Trump gives better head than you',\n",
       " '@JoeBiden Trump 2024',\n",
       " \"@JoeBiden 9/11 didn't happen\",\n",
       " '@JoeBiden mr biden have you heard of blundation',\n",
       " '@JoeBiden Don’t vilify the people who followed the previous path set before them.  They followed the rules and did… https://t.co/HcGPgRz2NW',\n",
       " '@JoeBiden https://t.co/hDaw93yYlh',\n",
       " \"@JoeBiden This guy better relocate out of providence they'll put him in the tombs at RI Hospital Im really tough th… https://t.co/JiQKeur6rK\",\n",
       " \"@JoeBiden @KamalaHarris doesn't answer.  Will you answer? https://t.co/iikwFyjymz\",\n",
       " '@JoeBiden Büyük domuz  Bozkurtlar sizi bekliyor https://t.co/XS3PSFUbzB',\n",
       " '@JoeBiden yeah okay hitler',\n",
       " '@JoeBiden https://t.co/MH9ZbarRNM',\n",
       " \"@JoeBiden Even Buddy's high ranking officers dont like him its tough they'll do something\"]"
      ]
     },
     "execution_count": 12,
     "metadata": {},
     "output_type": "execute_result"
    }
   ],
   "source": [
    "replies"
   ]
  },
  {
   "cell_type": "code",
   "execution_count": 8,
   "metadata": {},
   "outputs": [
    {
     "name": "stderr",
     "output_type": "stream",
     "text": [
      "Unexpected parameter: timeout\n"
     ]
    }
   ],
   "source": [
    "# user_name = \"@JoeBiden\"\n",
    "# tweet_id = 1443332006742568967\n",
    "\n",
    "# replies=[]\n",
    "# for tweet in tw.Cursor(api.search_tweets,q='to:'+user_name, result_type='recent', timeout=999999).items(10):\n",
    "#     if hasattr(tweet, 'in_reply_to_status_id_str'):\n",
    "#         if (tweet.in_reply_to_status_id_str==tweet_id):\n",
    "#             replies.append(tweet)\n"
   ]
  },
  {
   "cell_type": "code",
   "execution_count": null,
   "metadata": {},
   "outputs": [],
   "source": []
  }
 ],
 "metadata": {
  "kernelspec": {
   "display_name": "Python 3",
   "language": "python",
   "name": "python3"
  },
  "language_info": {
   "codemirror_mode": {
    "name": "ipython",
    "version": 3
   },
   "file_extension": ".py",
   "mimetype": "text/x-python",
   "name": "python",
   "nbconvert_exporter": "python",
   "pygments_lexer": "ipython3",
   "version": "3.7.0"
  }
 },
 "nbformat": 4,
 "nbformat_minor": 5
}
