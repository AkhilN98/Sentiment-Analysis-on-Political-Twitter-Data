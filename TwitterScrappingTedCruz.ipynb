{
 "cells": [
  {
   "cell_type": "code",
   "execution_count": 1,
   "id": "f98aec0c",
   "metadata": {},
   "outputs": [
    {
     "name": "stderr",
     "output_type": "stream",
     "text": [
      "[nltk_data] Downloading package punkt to\n",
      "[nltk_data]     C:\\Users\\akhil\\AppData\\Roaming\\nltk_data...\n",
      "[nltk_data]   Package punkt is already up-to-date!\n",
      "[nltk_data] Downloading package wordnet to\n",
      "[nltk_data]     C:\\Users\\akhil\\AppData\\Roaming\\nltk_data...\n",
      "[nltk_data]   Package wordnet is already up-to-date!\n"
     ]
    }
   ],
   "source": [
    "import nltk\n",
    "nltk.download('punkt')\n",
    "nltk.download('wordnet')\n",
    "from nltk import sent_tokenize, word_tokenize\n",
    "from nltk.stem.snowball import SnowballStemmer\n",
    "from nltk.stem.wordnet import WordNetLemmatizer\n",
    "from nltk.corpus import stopwords\n",
    "import pandas as pd\n",
    "import numpy as np\n",
    "import re  \n",
    "import spacy\n",
    "import tweepy as tw\n",
    "nlp = spacy.load('en_core_web_lg')"
   ]
  },
  {
   "cell_type": "code",
   "execution_count": 2,
   "id": "d6f114da",
   "metadata": {},
   "outputs": [],
   "source": [
    "consumer_key = 'YNyiyE5ibJ86TbhBDoFCpEsBu'\n",
    "consumer_secret = 'cE63ZCAiiNBYogYUNwjwGgB2jOVBxvZkkPOfwm7SPMa6Eocb6V'\n",
    "access_token = '748789075-E190Pda4cc7GQr4KQyUczGy9QtoMMPiSEkEm5uKP'\n",
    "access_token_secret = 'aAlExkHR84ij1SQpw3wZpsBg1WCNxYv5yUWchyDHya8YN'"
   ]
  },
  {
   "cell_type": "code",
   "execution_count": 3,
   "id": "03bb19e9",
   "metadata": {},
   "outputs": [],
   "source": [
    "# Authenticate\n",
    "auth = tw.OAuthHandler(consumer_key, consumer_secret)\n",
    "# Set Tokens\n",
    "auth.set_access_token(access_token, access_token_secret)\n",
    "# Instantiate API\n",
    "api = tw.API(auth, wait_on_rate_limit=True)"
   ]
  },
  {
   "cell_type": "code",
   "execution_count": 4,
   "id": "03a8331b",
   "metadata": {},
   "outputs": [],
   "source": [
    "cursor = tw.Cursor(api.user_timeline, screen_name = 'tedcruz', tweet_mode = \"extended\").items(3000)"
   ]
  },
  {
   "cell_type": "code",
   "execution_count": 5,
   "id": "723b5a3d",
   "metadata": {},
   "outputs": [],
   "source": [
    "tweets = [{'Tweet':tweet.full_text} for tweet in cursor]\n",
    "#print(tweets)"
   ]
  },
  {
   "cell_type": "code",
   "execution_count": 6,
   "id": "8c69c971",
   "metadata": {},
   "outputs": [
    {
     "data": {
      "text/html": [
       "<div>\n",
       "<style scoped>\n",
       "    .dataframe tbody tr th:only-of-type {\n",
       "        vertical-align: middle;\n",
       "    }\n",
       "\n",
       "    .dataframe tbody tr th {\n",
       "        vertical-align: top;\n",
       "    }\n",
       "\n",
       "    .dataframe thead th {\n",
       "        text-align: right;\n",
       "    }\n",
       "</style>\n",
       "<table border=\"1\" class=\"dataframe\">\n",
       "  <thead>\n",
       "    <tr style=\"text-align: right;\">\n",
       "      <th></th>\n",
       "      <th>Tweet</th>\n",
       "    </tr>\n",
       "  </thead>\n",
       "  <tbody>\n",
       "    <tr>\n",
       "      <th>0</th>\n",
       "      <td>RT @thehill: WATCH: Fight breaks out between S...</td>\n",
       "    </tr>\n",
       "    <tr>\n",
       "      <th>1</th>\n",
       "      <td>RT @goodblackdude: Ted Cruz calls AOC an angry...</td>\n",
       "    </tr>\n",
       "    <tr>\n",
       "      <th>2</th>\n",
       "      <td>RT @trish_regan: This is a bit unseemly. The s...</td>\n",
       "    </tr>\n",
       "    <tr>\n",
       "      <th>3</th>\n",
       "      <td>Your facts have no place in their lying propag...</td>\n",
       "    </tr>\n",
       "    <tr>\n",
       "      <th>4</th>\n",
       "      <td>The corrupt corporate media isn't interested i...</td>\n",
       "    </tr>\n",
       "  </tbody>\n",
       "</table>\n",
       "</div>"
      ],
      "text/plain": [
       "                                               Tweet\n",
       "0  RT @thehill: WATCH: Fight breaks out between S...\n",
       "1  RT @goodblackdude: Ted Cruz calls AOC an angry...\n",
       "2  RT @trish_regan: This is a bit unseemly. The s...\n",
       "3  Your facts have no place in their lying propag...\n",
       "4  The corrupt corporate media isn't interested i..."
      ]
     },
     "execution_count": 6,
     "metadata": {},
     "output_type": "execute_result"
    }
   ],
   "source": [
    "df_tweet = pd.DataFrame.from_dict(tweets)\n",
    "df_tweet.head()"
   ]
  },
  {
   "cell_type": "code",
   "execution_count": 7,
   "id": "2ae4ee77",
   "metadata": {},
   "outputs": [
    {
     "name": "stderr",
     "output_type": "stream",
     "text": [
      "[nltk_data] Downloading package stopwords to\n",
      "[nltk_data]     C:\\Users\\akhil\\AppData\\Roaming\\nltk_data...\n",
      "[nltk_data]   Package stopwords is already up-to-date!\n"
     ]
    }
   ],
   "source": [
    "\n",
    "from nltk.corpus import stopwords\n",
    "nltk.download('stopwords')\n",
    "\n",
    "# Import textblob\n",
    "from textblob import Word, TextBlob\n",
    "\n"
   ]
  },
  {
   "cell_type": "code",
   "execution_count": 8,
   "id": "6c27d352",
   "metadata": {},
   "outputs": [],
   "source": [
    "stop_words = stopwords.words('english')\n",
    "custom_stopwords = ['RT','amp']"
   ]
  },
  {
   "cell_type": "code",
   "execution_count": 9,
   "id": "2e2ea3dd",
   "metadata": {},
   "outputs": [
    {
     "data": {
      "text/html": [
       "<div>\n",
       "<style scoped>\n",
       "    .dataframe tbody tr th:only-of-type {\n",
       "        vertical-align: middle;\n",
       "    }\n",
       "\n",
       "    .dataframe tbody tr th {\n",
       "        vertical-align: top;\n",
       "    }\n",
       "\n",
       "    .dataframe thead th {\n",
       "        text-align: right;\n",
       "    }\n",
       "</style>\n",
       "<table border=\"1\" class=\"dataframe\">\n",
       "  <thead>\n",
       "    <tr style=\"text-align: right;\">\n",
       "      <th></th>\n",
       "      <th>Tweet</th>\n",
       "    </tr>\n",
       "  </thead>\n",
       "  <tbody>\n",
       "    <tr>\n",
       "      <th>0</th>\n",
       "      <td>@thehill: WATCH: Fight break Sen. Ted Cruz Sen...</td>\n",
       "    </tr>\n",
       "    <tr>\n",
       "      <th>1</th>\n",
       "      <td>@goodblackdude: Ted Cruz call AOC angry Left-w...</td>\n",
       "    </tr>\n",
       "    <tr>\n",
       "      <th>2</th>\n",
       "      <td>@trish_regan: This bit unseemly. The son law G...</td>\n",
       "    </tr>\n",
       "    <tr>\n",
       "      <th>3</th>\n",
       "      <td>Your fact place lying propaganda. https://t.co...</td>\n",
       "    </tr>\n",
       "    <tr>\n",
       "      <th>4</th>\n",
       "      <td>The corrupt corporate medium interested report...</td>\n",
       "    </tr>\n",
       "  </tbody>\n",
       "</table>\n",
       "</div>"
      ],
      "text/plain": [
       "                                               Tweet\n",
       "0  @thehill: WATCH: Fight break Sen. Ted Cruz Sen...\n",
       "1  @goodblackdude: Ted Cruz call AOC angry Left-w...\n",
       "2  @trish_regan: This bit unseemly. The son law G...\n",
       "3  Your fact place lying propaganda. https://t.co...\n",
       "4  The corrupt corporate medium interested report..."
      ]
     },
     "execution_count": 9,
     "metadata": {},
     "output_type": "execute_result"
    }
   ],
   "source": [
    "def preprocess_tweets(tweet, custom_stopwords):\n",
    "    processed_tweet = tweet\n",
    "    processed_tweet.replace('[^\\w\\s]', '')\n",
    "    processed_tweet = \" \".join(word for word in processed_tweet.split() if word not in stop_words)\n",
    "    processed_tweet = \" \".join(word for word in processed_tweet.split() if word not in custom_stopwords)\n",
    "    processed_tweet = \" \".join(Word(word).lemmatize() for word in processed_tweet.split())\n",
    "    return(processed_tweet)\n",
    "\n",
    "df_tweet['Tweet'] = df_tweet['Tweet'].apply(lambda x: preprocess_tweets(x, custom_stopwords))\n",
    "df_tweet.head()"
   ]
  },
  {
   "cell_type": "code",
   "execution_count": 10,
   "id": "0939c469",
   "metadata": {},
   "outputs": [],
   "source": [
    "df1 = df_tweet.to_string()\n",
    "\n",
    "df_split = df1.split()\n",
    "\n",
    "df_split\n",
    "\n",
    "all_sentences = []\n",
    "\n",
    "for word in df_split:\n",
    "    all_sentences.append(word)\n",
    "\n",
    "all_sentences\n",
    "\n",
    "lines = list()\n",
    "for line in all_sentences:    \n",
    "    words = line.split()\n",
    "    for w in words: \n",
    "       lines.append(w)"
   ]
  },
  {
   "cell_type": "code",
   "execution_count": 11,
   "id": "c724d68a",
   "metadata": {},
   "outputs": [],
   "source": [
    "# #print(lines)\n",
    "# def cleaning_URLs(data):\n",
    "#     return re.sub('((www.[^s]+)|(https?://[^s]+))',' ',data)\n",
    "# dataset['text'] = dataset['text'].apply(lambda x: cleaning_URLs(x))\n",
    "# dataset['text'].tail()"
   ]
  },
  {
   "cell_type": "code",
   "execution_count": 12,
   "id": "53fb3189",
   "metadata": {},
   "outputs": [],
   "source": [
    "lines = [re.sub(r'[^A-Za-z0-9]+((www.[^s]+)|(https?://[^s]+))', '', x) for x in lines]\n",
    "\n",
    "lines\n",
    "\n",
    "lines2 = []\n",
    "\n",
    "for word in lines:\n",
    "    if word != '':\n",
    "        word = word.lower()\n",
    "        lines2.append(word)\n",
    "            "
   ]
  },
  {
   "cell_type": "code",
   "execution_count": 13,
   "id": "5a44b5dc",
   "metadata": {},
   "outputs": [],
   "source": [
    "# #This is stemming the words to their root\n",
    "# from nltk.stem.snowball import SnowballStemmer\n",
    "\n",
    "# # The Snowball Stemmer requires that you pass a language parameter\n",
    "# s_stemmer = SnowballStemmer(language='english')\n",
    "\n",
    "# stem = []\n",
    "# for word in lines2:\n",
    "#     stem.append(s_stemmer.stem(word))\n",
    "    \n",
    "# #stem"
   ]
  },
  {
   "cell_type": "code",
   "execution_count": 14,
   "id": "f62cd38d",
   "metadata": {},
   "outputs": [],
   "source": [
    "#Removing all Stop Words\n",
    "\n",
    "stem2 = []\n",
    "\n",
    "stem = lines2 # Remove this if you want stemming\n",
    "\n",
    "for word in stem:\n",
    "    if word not in nlp.Defaults.stop_words:\n",
    "        stem2.append(word)\n",
    "\n",
    "#stem2"
   ]
  },
  {
   "cell_type": "code",
   "execution_count": 15,
   "id": "9babe1c6",
   "metadata": {},
   "outputs": [],
   "source": [
    "df_count = pd.DataFrame(stem2)\n",
    "\n",
    "df_count = df_count[0].value_counts()"
   ]
  },
  {
   "cell_type": "code",
   "execution_count": 16,
   "id": "b284585c",
   "metadata": {},
   "outputs": [
    {
     "data": {
      "text/plain": [
       "biden    475\n",
       "ted      419\n",
       "cruz     386\n",
       "&amp;    382\n",
       "sen.     215\n",
       "Name: 0, dtype: int64"
      ]
     },
     "execution_count": 16,
     "metadata": {},
     "output_type": "execute_result"
    }
   ],
   "source": [
    "df_count.head()"
   ]
  },
  {
   "cell_type": "code",
   "execution_count": 17,
   "id": "c89de4d1",
   "metadata": {},
   "outputs": [],
   "source": [
    "import matplotlib.pyplot as plt\n",
    "import seaborn as sns"
   ]
  },
  {
   "cell_type": "code",
   "execution_count": 19,
   "id": "32e24512",
   "metadata": {},
   "outputs": [
    {
     "data": {
      "image/png": "[encoded data removed]",
      "text/plain": [
       "<Figure size 720x360 with 1 Axes>"
      ]
     },
     "metadata": {
      "needs_background": "light"
     },
     "output_type": "display_data"
    }
   ],
   "source": [
    "\n",
    "#This is a simple plot that shows the top 20 words being used\n",
    "#df.plot(20)\n",
    "\n",
    "df_count = df_count[:20,]\n",
    "plt.figure(figsize=(10,5))\n",
    "sns.barplot(x = df_count.values, y = df_count.index, alpha=0.8)\n",
    "plt.title('Top Words Overall')\n",
    "plt.ylabel('Word from Tweet', fontsize=12)\n",
    "plt.xlabel('Count of Words', fontsize=12)\n",
    "plt.show()"
   ]
  },
  {
   "cell_type": "code",
   "execution_count": 20,
   "id": "939231ae",
   "metadata": {},
   "outputs": [],
   "source": [
    "import spacy\n",
    "from spacy import displacy\n",
    "from collections import Counter\n",
    "import en_core_web_sm\n",
    "nlp = en_core_web_sm.load()"
   ]
  },
  {
   "cell_type": "code",
   "execution_count": 21,
   "id": "a17b9ac2",
   "metadata": {},
   "outputs": [],
   "source": [
    "def show_ents(doc):\n",
    "    if doc.ents:\n",
    "        for ent in doc.ents:\n",
    "            print(ent.text + ' - ' + ent.label_ + ' - ' + str(spacy.explain(ent.label_)))"
   ]
  },
  {
   "cell_type": "code",
   "execution_count": 22,
   "id": "a5187d44",
   "metadata": {},
   "outputs": [],
   "source": [
    "str1 = \" \" \n",
    "stem2 = str1.join(lines2)\n",
    "\n",
    "stem2 = nlp(stem2)\n",
    "\n",
    "label = [(X.text, X.label_) for X in stem2.ents]\n",
    "\n",
    "df6 = pd.DataFrame(label, columns = ['Word','Entity'])\n",
    "\n",
    "df7 = df6.where(df6['Entity'] == 'ORG')\n",
    "\n",
    "df7 = df7['Word'].value_counts()"
   ]
  },
  {
   "cell_type": "code",
   "execution_count": 23,
   "id": "c057f3fd",
   "metadata": {},
   "outputs": [
    {
     "data": {
      "image/png": "[encoded data removed]",
      "text/plain": [
       "<Figure size 720x360 with 1 Axes>"
      ]
     },
     "metadata": {
      "needs_background": "light"
     },
     "output_type": "display_data"
    }
   ],
   "source": [
    "df_count = df7[:20,]\n",
    "plt.figure(figsize=(10,5))\n",
    "sns.barplot(x = df_count.values, y= df_count.index, alpha=0.8)\n",
    "plt.title('Top Organizations Mentioned')\n",
    "plt.ylabel('Word from Tweet', fontsize=12)\n",
    "plt.xlabel('Count of Words', fontsize=12)\n",
    "plt.show()"
   ]
  },
  {
   "cell_type": "code",
   "execution_count": 24,
   "id": "a24ac18b",
   "metadata": {},
   "outputs": [],
   "source": [
    "str1 = \" \" \n",
    "stem2 = str1.join(lines2)\n",
    "\n",
    "stem2 = nlp(stem2)\n",
    "\n",
    "label = [(X.text, X.label_) for X in stem2.ents]\n",
    "\n",
    "df10 = pd.DataFrame(label, columns = ['Word','Entity'])\n",
    "\n",
    "df10 = df10.where(df10['Entity'] == 'PERSON')\n",
    "\n",
    "df11 = df10['Word'].value_counts()"
   ]
  },
  {
   "cell_type": "code",
   "execution_count": 25,
   "id": "80d1e356",
   "metadata": {},
   "outputs": [
    {
     "name": "stderr",
     "output_type": "stream",
     "text": [
      "C:\\Users\\akhil\\anaconda3\\lib\\site-packages\\matplotlib\\backends\\backend_agg.py:238: RuntimeWarning: Glyph 129300 missing from current font.\n",
      "  font.set_text(s, 0.0, flags=flags)\n",
      "C:\\Users\\akhil\\anaconda3\\lib\\site-packages\\matplotlib\\backends\\backend_agg.py:238: RuntimeWarning: Glyph 127480 missing from current font.\n",
      "  font.set_text(s, 0.0, flags=flags)\n",
      "C:\\Users\\akhil\\anaconda3\\lib\\site-packages\\matplotlib\\backends\\backend_agg.py:201: RuntimeWarning: Glyph 129300 missing from current font.\n",
      "  font.set_text(s, 0, flags=flags)\n",
      "C:\\Users\\akhil\\anaconda3\\lib\\site-packages\\matplotlib\\backends\\backend_agg.py:201: RuntimeWarning: Glyph 127480 missing from current font.\n",
      "  font.set_text(s, 0, flags=flags)\n"
     ]
    },
    {
     "data": {
      "image/png": "[encoded data removed]",
      "text/plain": [
       "<Figure size 720x360 with 1 Axes>"
      ]
     },
     "metadata": {
      "needs_background": "light"
     },
     "output_type": "display_data"
    }
   ],
   "source": [
    "df_count = df11[:20,]\n",
    "plt.figure(figsize=(10,5))\n",
    "sns.barplot(x = df_count.values, y = df_count.index, alpha=0.8)\n",
    "plt.title('Top People Mentioned')\n",
    "plt.ylabel('Word from Tweet', fontsize=12)\n",
    "plt.xlabel('Count of Words', fontsize=12)\n",
    "plt.show()"
   ]
  },
  {
   "cell_type": "code",
   "execution_count": 26,
   "id": "e8f5ac3e",
   "metadata": {},
   "outputs": [
    {
     "data": {
      "text/html": [
       "<div>\n",
       "<style scoped>\n",
       "    .dataframe tbody tr th:only-of-type {\n",
       "        vertical-align: middle;\n",
       "    }\n",
       "\n",
       "    .dataframe tbody tr th {\n",
       "        vertical-align: top;\n",
       "    }\n",
       "\n",
       "    .dataframe thead th {\n",
       "        text-align: right;\n",
       "    }\n",
       "</style>\n",
       "<table border=\"1\" class=\"dataframe\">\n",
       "  <thead>\n",
       "    <tr style=\"text-align: right;\">\n",
       "      <th></th>\n",
       "      <th>Tweet</th>\n",
       "    </tr>\n",
       "  </thead>\n",
       "  <tbody>\n",
       "    <tr>\n",
       "      <th>0</th>\n",
       "      <td>@thehill: WATCH: Fight break Sen. Ted Cruz Sen...</td>\n",
       "    </tr>\n",
       "    <tr>\n",
       "      <th>1</th>\n",
       "      <td>@goodblackdude: Ted Cruz call AOC angry Left-w...</td>\n",
       "    </tr>\n",
       "    <tr>\n",
       "      <th>2</th>\n",
       "      <td>@trish_regan: This bit unseemly. The son law G...</td>\n",
       "    </tr>\n",
       "    <tr>\n",
       "      <th>3</th>\n",
       "      <td>Your fact place lying propaganda. https://t.co...</td>\n",
       "    </tr>\n",
       "    <tr>\n",
       "      <th>4</th>\n",
       "      <td>The corrupt corporate medium interested report...</td>\n",
       "    </tr>\n",
       "  </tbody>\n",
       "</table>\n",
       "</div>"
      ],
      "text/plain": [
       "                                               Tweet\n",
       "0  @thehill: WATCH: Fight break Sen. Ted Cruz Sen...\n",
       "1  @goodblackdude: Ted Cruz call AOC angry Left-w...\n",
       "2  @trish_regan: This bit unseemly. The son law G...\n",
       "3  Your fact place lying propaganda. https://t.co...\n",
       "4  The corrupt corporate medium interested report..."
      ]
     },
     "execution_count": 26,
     "metadata": {},
     "output_type": "execute_result"
    }
   ],
   "source": [
    "df_tweet.head()"
   ]
  },
  {
   "cell_type": "code",
   "execution_count": 27,
   "id": "f9213d04",
   "metadata": {},
   "outputs": [],
   "source": [
    "df_tweet['polarity'] = df_tweet['Tweet'].apply(lambda x: TextBlob(x).sentiment[0])\n",
    "df_tweet['subjectivity'] = df_tweet['Tweet'].apply(lambda x: TextBlob(x).sentiment[1])"
   ]
  },
  {
   "cell_type": "code",
   "execution_count": 28,
   "id": "83c30942",
   "metadata": {},
   "outputs": [
    {
     "data": {
      "text/html": [
       "<div>\n",
       "<style scoped>\n",
       "    .dataframe tbody tr th:only-of-type {\n",
       "        vertical-align: middle;\n",
       "    }\n",
       "\n",
       "    .dataframe tbody tr th {\n",
       "        vertical-align: top;\n",
       "    }\n",
       "\n",
       "    .dataframe thead th {\n",
       "        text-align: right;\n",
       "    }\n",
       "</style>\n",
       "<table border=\"1\" class=\"dataframe\">\n",
       "  <thead>\n",
       "    <tr style=\"text-align: right;\">\n",
       "      <th></th>\n",
       "      <th>Tweet</th>\n",
       "      <th>polarity</th>\n",
       "      <th>subjectivity</th>\n",
       "    </tr>\n",
       "  </thead>\n",
       "  <tbody>\n",
       "    <tr>\n",
       "      <th>0</th>\n",
       "      <td>@thehill: WATCH: Fight break Sen. Ted Cruz Sen...</td>\n",
       "      <td>-0.125000</td>\n",
       "      <td>0.125000</td>\n",
       "    </tr>\n",
       "    <tr>\n",
       "      <th>1</th>\n",
       "      <td>@goodblackdude: Ted Cruz call AOC angry Left-w...</td>\n",
       "      <td>-0.031250</td>\n",
       "      <td>0.825000</td>\n",
       "    </tr>\n",
       "    <tr>\n",
       "      <th>2</th>\n",
       "      <td>@trish_regan: This bit unseemly. The son law G...</td>\n",
       "      <td>0.000000</td>\n",
       "      <td>0.000000</td>\n",
       "    </tr>\n",
       "    <tr>\n",
       "      <th>3</th>\n",
       "      <td>Your fact place lying propaganda. https://t.co...</td>\n",
       "      <td>-0.100000</td>\n",
       "      <td>0.100000</td>\n",
       "    </tr>\n",
       "    <tr>\n",
       "      <th>4</th>\n",
       "      <td>The corrupt corporate medium interested report...</td>\n",
       "      <td>0.058333</td>\n",
       "      <td>0.538889</td>\n",
       "    </tr>\n",
       "  </tbody>\n",
       "</table>\n",
       "</div>"
      ],
      "text/plain": [
       "                                               Tweet  polarity  subjectivity\n",
       "0  @thehill: WATCH: Fight break Sen. Ted Cruz Sen... -0.125000      0.125000\n",
       "1  @goodblackdude: Ted Cruz call AOC angry Left-w... -0.031250      0.825000\n",
       "2  @trish_regan: This bit unseemly. The son law G...  0.000000      0.000000\n",
       "3  Your fact place lying propaganda. https://t.co... -0.100000      0.100000\n",
       "4  The corrupt corporate medium interested report...  0.058333      0.538889"
      ]
     },
     "execution_count": 28,
     "metadata": {},
     "output_type": "execute_result"
    }
   ],
   "source": [
    "df_tweet.head()"
   ]
  },
  {
   "cell_type": "code",
   "execution_count": 29,
   "id": "7452a010",
   "metadata": {},
   "outputs": [],
   "source": [
    "def getAnalysis(score):\n",
    "    if score < 0:\n",
    "        return '‘Negative’'\n",
    "    elif score == 0:\n",
    "        return '‘Neutral’'\n",
    "    else:\n",
    "        return '‘Positive’'\n",
    "df_tweet['TextBlob_Analysis'] = df_tweet['polarity'].apply(getAnalysis)"
   ]
  },
  {
   "cell_type": "code",
   "execution_count": 30,
   "id": "ef2ecc07",
   "metadata": {},
   "outputs": [
    {
     "data": {
      "text/html": [
       "<div>\n",
       "<style scoped>\n",
       "    .dataframe tbody tr th:only-of-type {\n",
       "        vertical-align: middle;\n",
       "    }\n",
       "\n",
       "    .dataframe tbody tr th {\n",
       "        vertical-align: top;\n",
       "    }\n",
       "\n",
       "    .dataframe thead th {\n",
       "        text-align: right;\n",
       "    }\n",
       "</style>\n",
       "<table border=\"1\" class=\"dataframe\">\n",
       "  <thead>\n",
       "    <tr style=\"text-align: right;\">\n",
       "      <th></th>\n",
       "      <th>Tweet</th>\n",
       "      <th>polarity</th>\n",
       "      <th>subjectivity</th>\n",
       "      <th>TextBlob_Analysis</th>\n",
       "    </tr>\n",
       "  </thead>\n",
       "  <tbody>\n",
       "    <tr>\n",
       "      <th>0</th>\n",
       "      <td>@thehill: WATCH: Fight break Sen. Ted Cruz Sen...</td>\n",
       "      <td>-0.125000</td>\n",
       "      <td>0.125000</td>\n",
       "      <td>‘Negative’</td>\n",
       "    </tr>\n",
       "    <tr>\n",
       "      <th>1</th>\n",
       "      <td>@goodblackdude: Ted Cruz call AOC angry Left-w...</td>\n",
       "      <td>-0.031250</td>\n",
       "      <td>0.825000</td>\n",
       "      <td>‘Negative’</td>\n",
       "    </tr>\n",
       "    <tr>\n",
       "      <th>2</th>\n",
       "      <td>@trish_regan: This bit unseemly. The son law G...</td>\n",
       "      <td>0.000000</td>\n",
       "      <td>0.000000</td>\n",
       "      <td>‘Neutral’</td>\n",
       "    </tr>\n",
       "    <tr>\n",
       "      <th>3</th>\n",
       "      <td>Your fact place lying propaganda. https://t.co...</td>\n",
       "      <td>-0.100000</td>\n",
       "      <td>0.100000</td>\n",
       "      <td>‘Negative’</td>\n",
       "    </tr>\n",
       "    <tr>\n",
       "      <th>4</th>\n",
       "      <td>The corrupt corporate medium interested report...</td>\n",
       "      <td>0.058333</td>\n",
       "      <td>0.538889</td>\n",
       "      <td>‘Positive’</td>\n",
       "    </tr>\n",
       "  </tbody>\n",
       "</table>\n",
       "</div>"
      ],
      "text/plain": [
       "                                               Tweet  polarity  subjectivity  \\\n",
       "0  @thehill: WATCH: Fight break Sen. Ted Cruz Sen... -0.125000      0.125000   \n",
       "1  @goodblackdude: Ted Cruz call AOC angry Left-w... -0.031250      0.825000   \n",
       "2  @trish_regan: This bit unseemly. The son law G...  0.000000      0.000000   \n",
       "3  Your fact place lying propaganda. https://t.co... -0.100000      0.100000   \n",
       "4  The corrupt corporate medium interested report...  0.058333      0.538889   \n",
       "\n",
       "  TextBlob_Analysis  \n",
       "0        ‘Negative’  \n",
       "1        ‘Negative’  \n",
       "2         ‘Neutral’  \n",
       "3        ‘Negative’  \n",
       "4        ‘Positive’  "
      ]
     },
     "execution_count": 30,
     "metadata": {},
     "output_type": "execute_result"
    }
   ],
   "source": [
    "df_tweet.head()"
   ]
  },
  {
   "cell_type": "code",
   "execution_count": 31,
   "id": "8e1629bf",
   "metadata": {},
   "outputs": [
    {
     "name": "stdout",
     "output_type": "stream",
     "text": [
      "<class 'pandas.core.frame.DataFrame'>\n",
      "RangeIndex: 3000 entries, 0 to 2999\n",
      "Data columns (total 4 columns):\n",
      " #   Column             Non-Null Count  Dtype  \n",
      "---  ------             --------------  -----  \n",
      " 0   Tweet              3000 non-null   object \n",
      " 1   polarity           3000 non-null   float64\n",
      " 2   subjectivity       3000 non-null   float64\n",
      " 3   TextBlob_Analysis  3000 non-null   object \n",
      "dtypes: float64(2), object(2)\n",
      "memory usage: 93.9+ KB\n"
     ]
    }
   ],
   "source": [
    "df_tweet.info()"
   ]
  },
  {
   "cell_type": "code",
   "execution_count": 32,
   "id": "e0c51c0a",
   "metadata": {},
   "outputs": [],
   "source": [
    "df_tweet_count = df_tweet['TextBlob_Analysis'].value_counts()"
   ]
  },
  {
   "cell_type": "code",
   "execution_count": 33,
   "id": "51ecb446",
   "metadata": {},
   "outputs": [
    {
     "data": {
      "text/plain": [
       "‘Neutral’     1324\n",
       "‘Positive’    1031\n",
       "‘Negative’     645\n",
       "Name: TextBlob_Analysis, dtype: int64"
      ]
     },
     "execution_count": 33,
     "metadata": {},
     "output_type": "execute_result"
    }
   ],
   "source": [
    "df_tweet_count"
   ]
  },
  {
   "cell_type": "code",
   "execution_count": 34,
   "id": "a76b9ce2",
   "metadata": {},
   "outputs": [
    {
     "data": {
      "text/plain": [
       "0.03899044013333444"
      ]
     },
     "execution_count": 34,
     "metadata": {},
     "output_type": "execute_result"
    }
   ],
   "source": [
    "df_tweet['polarity'].mean()"
   ]
  },
  {
   "cell_type": "code",
   "execution_count": 35,
   "id": "052c1441",
   "metadata": {},
   "outputs": [
    {
     "data": {
      "text/plain": [
       "0.33647918873454585"
      ]
     },
     "execution_count": 35,
     "metadata": {},
     "output_type": "execute_result"
    }
   ],
   "source": [
    "df_tweet['subjectivity'].mean()"
   ]
  },
  {
   "cell_type": "code",
   "execution_count": null,
   "id": "cb181806",
   "metadata": {},
   "outputs": [],
   "source": []
  }
 ],
 "metadata": {
  "kernelspec": {
   "display_name": "Python 3",
   "language": "python",
   "name": "python3"
  },
  "language_info": {
   "codemirror_mode": {
    "name": "ipython",
    "version": 3
   },
   "file_extension": ".py",
   "mimetype": "text/x-python",
   "name": "python",
   "nbconvert_exporter": "python",
   "pygments_lexer": "ipython3",
   "version": "3.8.8"
  }
 },
 "nbformat": 4,
 "nbformat_minor": 5
}
